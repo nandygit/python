{
 "cells": [
  {
   "cell_type": "code",
   "execution_count": 11,
   "id": "800e4a49",
   "metadata": {},
   "outputs": [],
   "source": [
    "def fruit_check(fruits) :\n",
    "    for x in fruits:\n",
    "        if x == \"banana\":\n",
    "            continue\n",
    "        if x == \"cherry\":\n",
    "            return\n",
    "        fruits = [\"apple\", \"banana\", \"cherry\"] \n",
    "        object_value = fruit_check(fruits)\n",
    "        print(object_value)"
   ]
  },
  {
   "cell_type": "code",
   "execution_count": 4,
   "id": "814d2c9a",
   "metadata": {},
   "outputs": [
    {
     "name": "stdout",
     "output_type": "stream",
     "text": [
      "Hello World!\n",
      "\n"
     ]
    }
   ],
   "source": [
    "check_value = 5\n",
    "if check_value > 1 and check_value < 10:\n",
    "    print(\"Hello World!\\n\")\n",
    "else:\n",
    "    print(\"Nothing to print\")"
   ]
  },
  {
   "cell_type": "code",
   "execution_count": 12,
   "id": "49c8a9ce",
   "metadata": {
    "scrolled": true
   },
   "outputs": [
    {
     "name": "stdout",
     "output_type": "stream",
     "text": [
      "apple\n",
      "cherry\n"
     ]
    }
   ],
   "source": [
    "fruits = [\"apple\", \"banana\", \"cherry\", \"jackfruit\"] \n",
    "for x in fruits:\n",
    "    if x == \"apple\":\n",
    "        print(x)\n",
    "        continue\n",
    "    if x == \"banana\":\n",
    "        pass\n",
    "    if x == \"cherry\":\n",
    "        print(x)\n",
    "        break"
   ]
  },
  {
   "cell_type": "code",
   "execution_count": 14,
   "id": "5a4934a9",
   "metadata": {},
   "outputs": [
    {
     "name": "stdout",
     "output_type": "stream",
     "text": [
      " Please enter the desired value : 0\n",
      "list value :  0\n"
     ]
    }
   ],
   "source": [
    "check_value = int(input(\" Please enter the desired value : \"))\n",
    "if check_value < 3:\n",
    "    print (\"list value : \", check_value)"
   ]
  },
  {
   "cell_type": "code",
   "execution_count": 17,
   "id": "cf30db83",
   "metadata": {},
   "outputs": [
    {
     "name": "stdout",
     "output_type": "stream",
     "text": [
      "Please enter the desired value : 0\n",
      "list value :  0\n"
     ]
    }
   ],
   "source": [
    "check_value = int(input(\"Please enter the desired value : \"))\n",
    "if check_value < 3:\n",
    "    print (\"list value : \", check_value)\n",
    "elif check_value > 5:\n",
    "    print(\"value is greater than 5\")"
   ]
  },
  {
   "cell_type": "code",
   "execution_count": 21,
   "id": "eea99483",
   "metadata": {},
   "outputs": [
    {
     "name": "stdout",
     "output_type": "stream",
     "text": [
      "Firstname :  Anand\n",
      "salary    :  10000\n"
     ]
    }
   ],
   "source": [
    "class employee:\n",
    "    Firstname =\"Anand\"\n",
    "    Lastname  =\"kumar\"\n",
    "    def sample_func(self,salary):\n",
    "        print(\"Firstname : \" ,self.Firstname)\n",
    "        print(\"salary    : \" ,salary )\n",
    "salary=10000\n",
    "emp = employee()    \n",
    "emp.sample_func(salary)"
   ]
  },
  {
   "cell_type": "code",
   "execution_count": 23,
   "id": "4316d61d",
   "metadata": {},
   "outputs": [
    {
     "ename": "SyntaxError",
     "evalue": "invalid syntax (869369552.py, line 5)",
     "output_type": "error",
     "traceback": [
      "\u001b[0;36m  File \u001b[0;32m\"/var/folders/xy/wjdbq1296pgcqb7gq5pw5gtc0000gn/T/ipykernel_873/869369552.py\"\u001b[0;36m, line \u001b[0;32m5\u001b[0m\n\u001b[0;31m    except AssertionError:\u001b[0m\n\u001b[0m    ^\u001b[0m\n\u001b[0;31mSyntaxError\u001b[0m\u001b[0;31m:\u001b[0m invalid syntax\n"
     ]
    }
   ],
   "source": [
    "a = 2\n",
    "try:\n",
    "    assert a < 2\n",
    "    print(\"end\")\n",
    "    except AssertionError:\n",
    "    print(\"Assert error triggered\")"
   ]
  },
  {
   "cell_type": "code",
   "execution_count": 24,
   "id": "c5c76329",
   "metadata": {},
   "outputs": [
    {
     "name": "stdout",
     "output_type": "stream",
     "text": [
      "0.1\n",
      "Exception raies\n",
      "None\n"
     ]
    }
   ],
   "source": [
    "\n",
    "def fun(num):\n",
    "    try:\n",
    "        r = 1/num\n",
    "    except:\n",
    "        print('Exception raies')\n",
    "        return\n",
    "    return r\n",
    " \n",
    "print(fun(10))\n",
    "print(fun(0))"
   ]
  },
  {
   "cell_type": "code",
   "execution_count": 25,
   "id": "947171bf",
   "metadata": {},
   "outputs": [
    {
     "name": "stdout",
     "output_type": "stream",
     "text": [
      "10\n"
     ]
    }
   ],
   "source": [
    "\n",
    "# declare a variable\n",
    "gvar = 10\n",
    " \n",
    "# create a function\n",
    "def fun1():\n",
    "  # print the value of gvar\n",
    "    print(gvar)\n",
    " \n",
    "# declare fun2()\n",
    "def fun2():\n",
    "  # declare global value gvar\n",
    "    global gvar\n",
    "    gvar = 100\n",
    " \n",
    "# call fun1()\n",
    "fun1()\n",
    " \n",
    "# call fun2()\n",
    "fun2()"
   ]
  },
  {
   "cell_type": "code",
   "execution_count": 27,
   "id": "d1c475dd",
   "metadata": {},
   "outputs": [
    {
     "name": "stdout",
     "output_type": "stream",
     "text": [
      "below are the list of functions in comments\n",
      "  \n",
      "['Anonymous_add_function', 'In', 'Out', '_', '__', '___', '__builtin__', '__builtins__', '__doc__', '__file__', '__loader__', '__name__', '__package__', '__spec__', '_dh', '_i', '_i1', '_i10', '_i11', '_i12', '_i13', '_i14', '_i15', '_i16', '_i17', '_i18', '_i19', '_i2', '_i20', '_i21', '_i22', '_i23', '_i24', '_i25', '_i3', '_i4', '_i5', '_i6', '_i7', '_i8', '_i9', '_ih', '_ii', '_iii', '_oh', 'a', 'acos', 'acosh', 'add', 'asin', 'asinh', 'atan', 'atan2', 'atanh', 'ceil', 'check_value', 'check_variable', 'copysign', 'cos', 'cosh', 'degrees', 'e', 'emp', 'employee', 'erf', 'erfc', 'exit', 'exp', 'expm1', 'fabs', 'factorial', 'floor', 'fmod', 'frexp', 'fruit_check', 'fsum', 'gamma', 'gcd', 'get_ipython', 'hypot', 'inf', 'isclose', 'isfinite', 'isinf', 'isnan', 'ldexp', 'lgamma', 'log', 'log10', 'log1p', 'log2', 'math', 'modf', 'nan', 'np', 'num1', 'num2', 'object_value', 'pd', 'pi', 'plt', 'pow', 'quit', 'radians', 'result', 'salary', 'sin', 'sinh', 'sqrt', 'tan', 'tanh', 'tau', 'trunc']\n",
      "  \n",
      "below are the functions from exec() method\n",
      "  \n",
      "['In', 'Out', '_', '__', '___', '__builtin__', '__builtins__', '__doc__', '__loader__', '__name__', '__package__', '__spec__', '_dh', '_i', '_i1', '_i10', '_i11', '_i12', '_i13', '_i14', '_i15', '_i16', '_i17', '_i18', '_i19', '_i2', '_i20', '_i21', '_i22', '_i23', '_i24', '_i25', '_i26', '_i27', '_i3', '_i4', '_i5', '_i6', '_i7', '_i8', '_i9', '_ih', '_ii', '_iii', '_oh', 'acos', 'acosh', 'asin', 'asinh', 'atan', 'atan2', 'atanh', 'ceil', 'check_value', 'comb', 'copysign', 'cos', 'cosh', 'degrees', 'dist', 'e', 'emp', 'employee', 'erf', 'erfc', 'exit', 'exp', 'expm1', 'fabs', 'factorial', 'floor', 'fmod', 'frexp', 'fruit_check', 'fruits', 'fsum', 'fun', 'fun1', 'fun2', 'gamma', 'gcd', 'get_ipython', 'gvar', 'hypot', 'inf', 'isclose', 'isfinite', 'isinf', 'isnan', 'isqrt', 'lcm', 'ldexp', 'lgamma', 'log', 'log10', 'log1p', 'log2', 'math_list', 'modf', 'nan', 'nextafter', 'perm', 'pi', 'pow', 'prod', 'quit', 'radians', 'remainder', 'salary', 'sample_func', 'sin', 'sinh', 'sqrt', 'tan', 'tanh', 'tau', 'trunc', 'ulp', 'x']\n"
     ]
    }
   ],
   "source": [
    "from math import *\n",
    "print(\"below are the list of functions in comments\")\n",
    "print(\"  \")\n",
    "math_list = ['Anonymous_add_function', 'In', 'Out', '_', '__', '___', '__builtin__', '__builtins__', '__doc__', '__file__', '__loader__', '__name__', '__package__', '__spec__', '_dh', '_i', '_i1', '_i10', '_i11', '_i12', '_i13', '_i14', '_i15', '_i16', '_i17', '_i18', '_i19', '_i2', '_i20', '_i21', '_i22', '_i23', '_i24', '_i25', '_i3', '_i4', '_i5', '_i6', '_i7', '_i8', '_i9', '_ih', '_ii', '_iii', '_oh', 'a', 'acos', 'acosh', 'add', 'asin', 'asinh', 'atan', 'atan2', 'atanh', 'ceil', 'check_value', 'check_variable', 'copysign', 'cos', 'cosh', 'degrees', 'e', 'emp', 'employee', 'erf', 'erfc', 'exit', 'exp', 'expm1', 'fabs', 'factorial', 'floor', 'fmod', 'frexp', 'fruit_check', 'fsum', 'gamma', 'gcd', 'get_ipython', 'hypot', 'inf', 'isclose', 'isfinite', 'isinf', 'isnan', 'ldexp', 'lgamma', 'log', 'log10', 'log1p', 'log2', 'math', 'modf', 'nan', 'np', 'num1', 'num2', 'object_value', 'pd', 'pi', 'plt', 'pow', 'quit', 'radians', 'result', 'salary', 'sin', 'sinh', 'sqrt', 'tan', 'tanh', 'tau', 'trunc'] \n",
    "print(math_list)\n",
    "print(\"  \")\n",
    "print(\"below are the functions from exec() method\")\n",
    "print(\"  \")\n",
    "exec(\"print(dir())\")"
   ]
  },
  {
   "cell_type": "code",
   "execution_count": 32,
   "id": "2d0d336b",
   "metadata": {},
   "outputs": [
    {
     "name": "stdout",
     "output_type": "stream",
     "text": [
      "1\n",
      "2\n",
      "3\n"
     ]
    }
   ],
   "source": [
    "def yieldFun():\n",
    "    yield 1\n",
    "    yield 2\n",
    "    yield 3\n",
    "# Driver code to check above generator function\n",
    "for value in yieldFun():\n",
    "    print(value)"
   ]
  },
  {
   "cell_type": "code",
   "execution_count": 33,
   "id": "630baee0",
   "metadata": {},
   "outputs": [
    {
     "name": "stdout",
     "output_type": "stream",
     "text": [
      "45\n",
      "0\n",
      "1\n",
      "3\n",
      "6\n",
      "10\n",
      "15\n",
      "21\n",
      "28\n",
      "36\n",
      "45\n"
     ]
    }
   ],
   "source": [
    "\n",
    "# Return keyword\n",
    "def fun():\n",
    "    S = 0\n",
    "      \n",
    "    for i in range(10):\n",
    "        S += i\n",
    "    return S\n",
    "  \n",
    "print(fun())\n",
    "  \n",
    "# Yield Keyword\n",
    "def fun():\n",
    "    S = 0\n",
    "      \n",
    "    for i in range(10):\n",
    "        S += i\n",
    "        yield S\n",
    "  \n",
    "for i in fun():\n",
    "    print(i)"
   ]
  },
  {
   "cell_type": "code",
   "execution_count": null,
   "id": "e0a8f8c6",
   "metadata": {},
   "outputs": [],
   "source": []
  }
 ],
 "metadata": {
  "kernelspec": {
   "display_name": "Python 3 (ipykernel)",
   "language": "python",
   "name": "python3"
  },
  "language_info": {
   "codemirror_mode": {
    "name": "ipython",
    "version": 3
   },
   "file_extension": ".py",
   "mimetype": "text/x-python",
   "name": "python",
   "nbconvert_exporter": "python",
   "pygments_lexer": "ipython3",
   "version": "3.9.7"
  }
 },
 "nbformat": 4,
 "nbformat_minor": 5
}
